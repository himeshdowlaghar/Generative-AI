{
  "nbformat": 4,
  "nbformat_minor": 0,
  "metadata": {
    "colab": {
      "provenance": [],
      "authorship_tag": "ABX9TyMtGCzeb74WaeLl5pMrqY+I",
      "include_colab_link": true
    },
    "kernelspec": {
      "name": "python3",
      "display_name": "Python 3"
    },
    "language_info": {
      "name": "python"
    }
  },
  "cells": [
    {
      "cell_type": "markdown",
      "metadata": {
        "id": "view-in-github",
        "colab_type": "text"
      },
      "source": [
        "<a href=\"https://colab.research.google.com/github/himeshdowlaghar/Generative-AI/blob/main/GEN_AI_Lab_3_(22_01_2025).ipynb\" target=\"_parent\"><img src=\"https://colab.research.google.com/assets/colab-badge.svg\" alt=\"Open In Colab\"/></a>"
      ]
    },
    {
      "cell_type": "markdown",
      "source": [
        "**1**"
      ],
      "metadata": {
        "id": "2C4KaiXiGWJO"
      }
    },
    {
      "cell_type": "code",
      "source": [
        "def gradient_descent(learning_rate, max_iterations, tolerance):\n",
        "\n",
        "    def f(x):\n",
        "        return 5 * x**4 + 3 * x**2 + 10\n",
        "\n",
        "    def f_prime(x):\n",
        "        return 20 * x**3 + 6 * x\n",
        "\n",
        "    x = 0.0\n",
        "    for iteration in range(max_iterations):\n",
        "        gradient = f_prime(x)\n",
        "\n",
        "        new_x = x - learning_rate * gradient\n",
        "        if abs(new_x - x) < tolerance:\n",
        "            print(f\"Converged after {iteration + 1} iterations.\")\n",
        "            break\n",
        "\n",
        "        x = new_x\n",
        "\n",
        "    return x, f(x)\n",
        "\n",
        "learning_rate = 0.01\n",
        "max_iterations = 10000\n",
        "tolerance = 1e-6\n",
        "\n",
        "x_min, f_min = gradient_descent(learning_rate, max_iterations, tolerance)\n",
        "print(f\"Minimum value of f(x) is at x = {x_min}, f(x) = {f_min}\")\n"
      ],
      "metadata": {
        "colab": {
          "base_uri": "https://localhost:8080/"
        },
        "id": "ayoOOK_dJxKb",
        "outputId": "642459ac-e811-4cdc-bd6a-383833d5131b"
      },
      "execution_count": 4,
      "outputs": [
        {
          "output_type": "stream",
          "name": "stdout",
          "text": [
            "Converged after 1 iterations.\n",
            "Minimum value of f(x) is at x = 0.0, f(x) = 10.0\n"
          ]
        }
      ]
    },
    {
      "cell_type": "markdown",
      "source": [
        "**2**"
      ],
      "metadata": {
        "id": "UScJAyRZKr5q"
      }
    },
    {
      "cell_type": "code",
      "source": [
        "import math\n",
        "\n",
        "def g(x, y):\n",
        "    return 3*x**2 + 5*math.exp(-y) + 10\n",
        "\n",
        "def dg_dx(x, y):\n",
        "    return 6*x\n",
        "\n",
        "def dg_dy(x, y):\n",
        "    return -5*math.exp(-y)\n",
        "\n",
        "def gradient_descent_2d(learning_rate, num_iterations):\n",
        "    x, y = 0, 0\n",
        "    for i in range(num_iterations):\n",
        "        gradient_x = dg_dx(x, y)\n",
        "        gradient_y = dg_dy(x, y)\n",
        "        x = x - learning_rate * gradient_x\n",
        "        y = y - learning_rate * gradient_y\n",
        "    return x, y\n",
        "\n",
        "learning_rate = 0.01\n",
        "num_iterations = 1000\n",
        "min_x, min_y = gradient_descent_2d(learning_rate, num_iterations)\n",
        "print(\"The values of x and y at which g(x, y) is minimum:\", min_x, min_y)\n"
      ],
      "metadata": {
        "colab": {
          "base_uri": "https://localhost:8080/"
        },
        "id": "yfS12_4IKtgE",
        "outputId": "37518210-e9ed-448b-be37-d32b0edbfb66"
      },
      "execution_count": 5,
      "outputs": [
        {
          "output_type": "stream",
          "name": "stdout",
          "text": [
            "The values of x and y at which g(x, y) is minimum: 0.0 3.9337602416246904\n"
          ]
        }
      ]
    },
    {
      "cell_type": "markdown",
      "source": [
        "**3**"
      ],
      "metadata": {
        "id": "fVsDKLewKvq5"
      }
    },
    {
      "cell_type": "code",
      "source": [
        "import math\n",
        "\n",
        "def z(x):\n",
        "    return 1 / (1 + math.exp(-x))\n",
        "\n",
        "def dz(x):\n",
        "    return z(x) * (1 - z(x))\n",
        "\n",
        "def gradient_descent_sigmoid(learning_rate, num_iterations):\n",
        "    x = 0\n",
        "    for i in range(num_iterations):\n",
        "        gradient = dz(x)\n",
        "        x = x - learning_rate * gradient\n",
        "    return x\n",
        "\n",
        "learning_rate = 0.01\n",
        "num_iterations = 1000\n",
        "min_x = gradient_descent_sigmoid(learning_rate, num_iterations)\n",
        "print(\"The value of x at which z(x) is minimum:\", min_x)\n",
        "\n",
        "\n"
      ],
      "metadata": {
        "colab": {
          "base_uri": "https://localhost:8080/"
        },
        "id": "gBqo30LzKx2s",
        "outputId": "fa17d7e6-68ad-43a3-df27-a97ff24a6c16"
      },
      "execution_count": 6,
      "outputs": [
        {
          "output_type": "stream",
          "name": "stdout",
          "text": [
            "The value of x at which z(x) is minimum: -1.8618354629020137\n"
          ]
        }
      ]
    },
    {
      "cell_type": "markdown",
      "source": [
        "**4**"
      ],
      "metadata": {
        "id": "TgTyTapNK6b4"
      }
    },
    {
      "cell_type": "code",
      "source": [
        "def predicted_output(input_value, M, C):\n",
        "    return input_value * M + C\n",
        "\n",
        "def square_error(input_value, M, C, expected_output):\n",
        "    predicted = predicted_output(input_value, M, C)\n",
        "    return (expected_output - predicted) ** 2\n",
        "\n",
        "def se_partial_M(input_value, M, C, expected_output):\n",
        "    predicted = predicted_output(input_value, M, C)\n",
        "    return -2 * input_value * (expected_output - predicted)\n",
        "\n",
        "def se_partial_C(input_value, M, C, expected_output):\n",
        "    predicted = predicted_output(input_value, M, C)\n",
        "    return -2 * (expected_output - predicted)\n",
        "\n",
        "def gradient_descent(input_value, expected_output, learning_rate, tolerance, max_iterations):\n",
        "    M, C = 0, 0\n",
        "    for iteration in range(max_iterations):\n",
        "        grad_M = se_partial_M(input_value, M, C, expected_output)\n",
        "        grad_C = se_partial_C(input_value, M, C, expected_output)\n",
        "\n",
        "        new_M = M - learning_rate * grad_M\n",
        "        new_C = C - learning_rate * grad_C\n",
        "        if abs(new_M - M) < tolerance and abs(new_C - C) < tolerance:\n",
        "            print(f\"Converged in {iteration + 1} iterations.\")\n",
        "            return new_M, new_C\n",
        "\n",
        "        M, C = new_M, new_C\n",
        "\n",
        "    print(\"Reached maximum iterations without full convergence.\")\n",
        "    return M, C\n",
        "\n",
        "input_value = 2\n",
        "expected_output = 0.5\n",
        "learning_rate = 0.01\n",
        "tolerance = 1e-6\n",
        "max_iterations = 10000\n",
        "optimal_M, optimal_C = gradient_descent(input_value, expected_output, learning_rate, tolerance, max_iterations)\n",
        "print(f\"Optimal values: M = {optimal_M:.6f}, C = {optimal_C:.6f}\")\n",
        "predicted = predicted_output(input_value, optimal_M, optimal_C)\n",
        "print(f\"Predicted output: {predicted:.6f}\")\n",
        "print(f\"Square Error: {square_error(input_value, optimal_M, optimal_C, expected_output):.6f}\")"
      ],
      "metadata": {
        "colab": {
          "base_uri": "https://localhost:8080/"
        },
        "id": "6wWUiTVUK62v",
        "outputId": "443b6895-8a96-427a-cfee-dc6994486a6a"
      },
      "execution_count": 7,
      "outputs": [
        {
          "output_type": "stream",
          "name": "stdout",
          "text": [
            "Converged in 95 iterations.\n",
            "Optimal values: M = 0.199991, C = 0.099996\n",
            "Predicted output: 0.499978\n",
            "Square Error: 0.000000\n"
          ]
        }
      ]
    }
  ]
}