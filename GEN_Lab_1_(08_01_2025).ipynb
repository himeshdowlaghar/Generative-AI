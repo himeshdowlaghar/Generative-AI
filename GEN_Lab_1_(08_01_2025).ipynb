{
  "nbformat": 4,
  "nbformat_minor": 0,
  "metadata": {
    "colab": {
      "provenance": []
    },
    "kernelspec": {
      "name": "python3",
      "display_name": "Python 3"
    },
    "language_info": {
      "name": "python"
    }
  },
  "cells": [
    {
      "cell_type": "code",
      "execution_count": null,
      "metadata": {
        "id": "JAKZetya5nt8"
      },
      "outputs": [],
      "source": []
    },
    {
      "cell_type": "code",
      "source": [
        "from google.colab import drive\n",
        "drive.mount('/content/drive')"
      ],
      "metadata": {
        "colab": {
          "base_uri": "https://localhost:8080/"
        },
        "id": "a8aLNEpR7wWB",
        "outputId": "e5fc9b49-82a6-4435-97c6-ea28a55c8e62"
      },
      "execution_count": null,
      "outputs": [
        {
          "output_type": "stream",
          "name": "stdout",
          "text": [
            "Drive already mounted at /content/drive; to attempt to forcibly remount, call drive.mount(\"/content/drive\", force_remount=True).\n"
          ]
        }
      ]
    },
    {
      "cell_type": "code",
      "source": [
        "import pandas as pd\n",
        "import numpy as np\n",
        "from sklearn.metrics import accuracy_score"
      ],
      "metadata": {
        "id": "1SWOn4tD8BfA"
      },
      "execution_count": null,
      "outputs": []
    },
    {
      "cell_type": "code",
      "source": [
        "y_actual=np.array([20,30,40,50,60])\n",
        "y_pred=np.array([20.5,30.3,40.2,50.6,60.7])\n"
      ],
      "metadata": {
        "id": "8I0ulwd78Bho"
      },
      "execution_count": null,
      "outputs": []
    },
    {
      "cell_type": "code",
      "source": [
        "mean=np.mean(y_actual-y_pred)\n",
        "mae=np.mean(np.abs(y_actual-y_pred))\n",
        "mse=np.mean((y_actual-y_pred)**2)\n",
        "rmse=np.sqrt(mse)\n",
        "mape=np.mean(np.abs((y_actual-y_pred)/y_actual))*100\n",
        "print(\"Mean Absolute Error:\",mae)\n",
        "print(\"Mean Squared Error:\",mse)\n",
        "print(\"Root Mean Squared Error:\",rmse)\n",
        "print(\"Mean Absolute Percentage Error:\",mape)"
      ],
      "metadata": {
        "colab": {
          "base_uri": "https://localhost:8080/"
        },
        "id": "I5BC0Sl38Bl3",
        "outputId": "c9614d5a-2dd9-4f7c-d180-adac2751a80c"
      },
      "execution_count": null,
      "outputs": [
        {
          "output_type": "stream",
          "name": "stdout",
          "text": [
            "Mean Absolute Error: 0.4600000000000016\n",
            "Mean Squared Error: 0.24600000000000147\n",
            "Root Mean Squared Error: 0.49598387070549127\n",
            "Mean Absolute Percentage Error: 1.273333333333337\n"
          ]
        }
      ]
    },
    {
      "cell_type": "code",
      "source": [
        "from sklearn.metrics import mean_squared_error,mean_absolute_error,r2_score\n",
        "mse2=mean_squared_error(y_actual,y_pred)\n",
        "mae2=mean_absolute_error(y_actual,y_pred)\n",
        "rmse2=np.sqrt(mse2)\n",
        "print(\"Mean Squared Error:\",mse2)\n",
        "print(\"MEan absolute error:\",mae2)\n",
        "print(\"Root Mean Squared Error:\",rmse2)"
      ],
      "metadata": {
        "colab": {
          "base_uri": "https://localhost:8080/"
        },
        "id": "a2VJXun0-Jf4",
        "outputId": "a1abc8b0-d897-4a7f-c354-e5e1f07eadfc"
      },
      "execution_count": null,
      "outputs": [
        {
          "output_type": "stream",
          "name": "stdout",
          "text": [
            "Mean Squared Error: 0.24600000000000147\n",
            "MEan absolute error: 0.4600000000000016\n",
            "Root Mean Squared Error: 0.49598387070549127\n"
          ]
        }
      ]
    }
  ]
}