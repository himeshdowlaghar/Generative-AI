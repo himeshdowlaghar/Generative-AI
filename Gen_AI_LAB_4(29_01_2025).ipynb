{
  "nbformat": 4,
  "nbformat_minor": 0,
  "metadata": {
    "colab": {
      "provenance": [],
      "authorship_tag": "ABX9TyPagDOtwNbRxOjzjDl4SZdn",
      "include_colab_link": true
    },
    "kernelspec": {
      "name": "python3",
      "display_name": "Python 3"
    },
    "language_info": {
      "name": "python"
    }
  },
  "cells": [
    {
      "cell_type": "markdown",
      "metadata": {
        "id": "view-in-github",
        "colab_type": "text"
      },
      "source": [
        "<a href=\"https://colab.research.google.com/github/himeshdowlaghar/Generative-AI/blob/main/Gen_AI_LAB_4(29_01_2025).ipynb\" target=\"_parent\"><img src=\"https://colab.research.google.com/assets/colab-badge.svg\" alt=\"Open In Colab\"/></a>"
      ]
    },
    {
      "cell_type": "code",
      "execution_count": 1,
      "metadata": {
        "colab": {
          "base_uri": "https://localhost:8080/"
        },
        "id": "J8ya0DmOFQVm",
        "outputId": "3c7c02de-b0b1-4c54-d4e7-b77e40bdb91d"
      },
      "outputs": [
        {
          "output_type": "stream",
          "name": "stdout",
          "text": [
            "Mean Squared Error on Training Data:  6.461155629091917e-07\n",
            "Mean Squared Error on Test Data:  3.355917456997702e-06\n",
            "Enter three numbers separated by space: 0.6 0.7 0.8\n",
            "Predicted output:  [0.44169033]\n"
          ]
        }
      ],
      "source": [
        "import numpy as np\n",
        "X_train = np.array([[0.1, 0.2, 0.3],\n",
        "                     [0.2, 0.3, 0.4],\n",
        "                     [0.3, 0.4, 0.5],\n",
        "                     [0.5, 0.6, 0.7],\n",
        "                     [0.1, 0.3, 0.5],\n",
        "                     [0.2, 0.4, 0.6],\n",
        "                     [0.3, 0.5, 0.7],\n",
        "                     [0.4, 0.6, 0.8],\n",
        "                     [0.5, 0.7, 0.1]])\n",
        "\n",
        "y_train = np.array([0.14, 0.20, 0.26, 0.38, 0.22, 0.28, 0.34, 0.40, 0.22])\n",
        "\n",
        "X_test = np.array([[0.6, 0.7, 0.8],\n",
        "                    [0.7, 0.8, 0.9]])\n",
        "\n",
        "y_test = np.array([0.44, 0.50])\n",
        "\n",
        "np.random.seed(0)\n",
        "weights = np.random.rand(3)\n",
        "bias = np.random.rand(1)\n",
        "\n",
        "learning_rate = 0.01\n",
        "epochs = 1000\n",
        "\n",
        "for epoch in range(epochs):\n",
        "    output = np.dot(X_train, weights) + bias\n",
        "\n",
        "    error = output - y_train\n",
        "\n",
        "    mse = np.mean(error ** 2)\n",
        "\n",
        "    d_output = 2 * error\n",
        "    d_weights = np.dot(X_train.T, d_output)\n",
        "    d_bias = np.sum(d_output, axis=0, keepdims=True)\n",
        "\n",
        "    weights -= learning_rate * d_weights\n",
        "    bias -= learning_rate * d_bias\n",
        "\n",
        "test_output = np.dot(X_test, weights) + bias\n",
        "\n",
        "test_mse = np.mean((test_output - y_test) ** 2)\n",
        "\n",
        "print(\"Mean Squared Error on Training Data: \", mse)\n",
        "print(\"Mean Squared Error on Test Data: \", test_mse)\n",
        "\n",
        "user_input = np.array([float(x) for x in input(\"Enter three numbers separated by space: \").split()])\n",
        "\n",
        "prediction = np.dot(user_input, weights) + bias\n",
        "print(\"Predicted output: \", prediction)"
      ]
    },
    {
      "cell_type": "code",
      "source": [
        "import numpy as np\n",
        "\n",
        "X_train = np.array([[0.1, 0.2, 0.3],\n",
        "                     [0.2, 0.3, 0.4],\n",
        "                     [0.3, 0.4, 0.5],\n",
        "                     [0.5, 0.6, 0.7],\n",
        "                     [0.1, 0.3, 0.5],\n",
        "                     [0.2, 0.4, 0.6],\n",
        "                     [0.3, 0.5, 0.7],\n",
        "                     [0.4, 0.6, 0.8],\n",
        "                     [0.5, 0.7, 0.1]])\n",
        "\n",
        "y_train = np.array([0.14, 0.20, 0.26, 0.38, 0.22, 0.28, 0.34, 0.40, 0.22])\n",
        "\n",
        "def sigmoid(x):\n",
        "    return 1 / (1 + np.exp(-x))\n",
        "\n",
        "def sigmoid_derivative(x):\n",
        "    return x * (1 - x)\n",
        "\n",
        "np.random.seed(0)\n",
        "weights = np.random.rand(3)\n",
        "bias = np.random.rand(1)\n",
        "\n",
        "learning_rate = 0.01\n",
        "epochs = 1000\n",
        "\n",
        "for epoch in range(epochs):\n",
        "    output = sigmoid(np.dot(X_train, weights) + bias)\n",
        "\n",
        "    error = output - y_train\n",
        "\n",
        "    mse = np.mean(error ** 2)\n",
        "\n",
        "    d_output = error * sigmoid_derivative(output)\n",
        "    d_weights = np.dot(X_train.T, d_output)\n",
        "    d_bias = np.sum(d_output, axis=0, keepdims=True)\n",
        "\n",
        "    weights -= learning_rate * d_weights\n",
        "    bias -= learning_rate * d_bias\n",
        "\n",
        "print(\"Final Weights: \", weights)\n",
        "print(\"Final Bias: \", bias)\n",
        "print(\"Mean Squared Error: \", mse)"
      ],
      "metadata": {
        "colab": {
          "base_uri": "https://localhost:8080/"
        },
        "id": "NAzmne-EPmvt",
        "outputId": "d18dc6a7-90e8-47af-86a3-e2d41bd84cb9"
      },
      "execution_count": 3,
      "outputs": [
        {
          "output_type": "stream",
          "name": "stdout",
          "text": [
            "Final Weights:  [0.19176139 0.12542925 0.04142155]\n",
            "Final Bias:  [-1.07354759]\n",
            "Mean Squared Error:  0.005706532311430175\n"
          ]
        }
      ]
    }
  ]
}