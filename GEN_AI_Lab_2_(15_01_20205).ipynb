{
  "nbformat": 4,
  "nbformat_minor": 0,
  "metadata": {
    "colab": {
      "provenance": [],
      "authorship_tag": "ABX9TyN3nGpfUD3bW+nBTRpnfNOm",
      "include_colab_link": true
    },
    "kernelspec": {
      "name": "python3",
      "display_name": "Python 3"
    },
    "language_info": {
      "name": "python"
    }
  },
  "cells": [
    {
      "cell_type": "markdown",
      "metadata": {
        "id": "view-in-github",
        "colab_type": "text"
      },
      "source": [
        "<a href=\"https://colab.research.google.com/github/himeshdowlaghar/Generative-AI/blob/main/GEN_AI_Lab_2_(15_01_20205).ipynb\" target=\"_parent\"><img src=\"https://colab.research.google.com/assets/colab-badge.svg\" alt=\"Open In Colab\"/></a>"
      ]
    },
    {
      "cell_type": "code",
      "execution_count": 1,
      "metadata": {
        "colab": {
          "base_uri": "https://localhost:8080/",
          "height": 211
        },
        "id": "j9r7d9WHEhsY",
        "outputId": "eaaf6418-5465-4041-908e-28ec7207b9ee"
      },
      "outputs": [
        {
          "output_type": "error",
          "ename": "NameError",
          "evalue": "name 'QUESTION' is not defined",
          "traceback": [
            "\u001b[0;31m---------------------------------------------------------------------------\u001b[0m",
            "\u001b[0;31mNameError\u001b[0m                                 Traceback (most recent call last)",
            "\u001b[0;32m<ipython-input-1-e5729077fb8d>\u001b[0m in \u001b[0;36m<cell line: 0>\u001b[0;34m()\u001b[0m\n\u001b[0;32m----> 1\u001b[0;31m \u001b[0mQUESTION\u001b[0m\u001b[0;34m-\u001b[0m\u001b[0;36m1\u001b[0m\u001b[0;34m\u001b[0m\u001b[0;34m\u001b[0m\u001b[0m\n\u001b[0m\u001b[1;32m      2\u001b[0m \u001b[0;34m\u001b[0m\u001b[0m\n\u001b[1;32m      3\u001b[0m \u001b[0;32mdef\u001b[0m \u001b[0mcalculate_profit\u001b[0m\u001b[0;34m(\u001b[0m\u001b[0ma\u001b[0m\u001b[0;34m,\u001b[0m \u001b[0mb\u001b[0m\u001b[0;34m)\u001b[0m\u001b[0;34m:\u001b[0m\u001b[0;34m\u001b[0m\u001b[0;34m\u001b[0m\u001b[0m\n\u001b[1;32m      4\u001b[0m     \u001b[0;32mreturn\u001b[0m \u001b[0;36m6\u001b[0m\u001b[0;34m*\u001b[0m\u001b[0ma\u001b[0m \u001b[0;34m+\u001b[0m \u001b[0;36m5\u001b[0m\u001b[0;34m*\u001b[0m\u001b[0mb\u001b[0m\u001b[0;34m\u001b[0m\u001b[0;34m\u001b[0m\u001b[0m\n\u001b[1;32m      5\u001b[0m \u001b[0;34m\u001b[0m\u001b[0m\n",
            "\u001b[0;31mNameError\u001b[0m: name 'QUESTION' is not defined"
          ]
        }
      ],
      "source": [
        "QUESTION-1\n",
        "\n",
        "def calculate_profit(a, b):\n",
        "    return 6*a + 5*b\n",
        "\n",
        "def is_valid(a, b):\n",
        "    if a + b > 5:\n",
        "        return False\n",
        "    if 3*a + 2*b > 12:\n",
        "        return False\n",
        "    return True\n",
        "\n",
        "max_profit = 0\n",
        "best_a = 0\n",
        "best_b = 0\n",
        "\n",
        "for a in range(6):\n",
        "    for b in range(6):\n",
        "        if is_valid(a, b):\n",
        "            profit = calculate_profit(a, b)\n",
        "            if profit > max_profit:\n",
        "                max_profit = profit\n",
        "                best_a = a\n",
        "                best_b = b\n",
        "\n",
        "print(f\"Optimal number of Chocolate A: {best_a}\")\n",
        "print(f\"Optimal number of Chocolate B: {best_b}\")\n",
        "print(f\"Maximum Profit: Rs {max_profit}\")\n",
        "\n",
        "print(\"\\nVerification:\")\n",
        "print(f\"Milk used: {best_a + best_b} units (must be ≤ 5)\")\n",
        "print(f\"Choco used: {3*best_a + 2*best_b} units (must be ≤ 12)\")\n",
        "\n",
        "\n",
        "QUESTION-2\n",
        "\n",
        "from scipy.optimize import linprog\n",
        "import numpy as np\n",
        "\n",
        "c = [-50, -120]\n",
        "\n",
        "A = np.array([\n",
        "    [1, 1],\n",
        "    [7000, 2000],\n",
        "    [10, 30]\n",
        "])\n",
        "\n",
        "b = np.array([110, 700000, 1200])\n",
        "\n",
        "x_bounds = [(0, None), (0, None)]\n",
        "\n",
        "result = linprog(c, A_ub=A, b_ub=b, bounds=x_bounds, method='simplex')\n",
        "\n",
        "if result.success:\n",
        "    print(\"\\nOptimal Land Allocation:\")\n",
        "    print(f\"Wheat: {result.x[0]:.2f} hectares\")\n",
        "    print(f\"Barley: {result.x[1]:.2f} hectares\")\n",
        "    print(f\"\\nOptimal Profit: Rs. {-result.fun:.2f}\")\n",
        "else:\n",
        "    print(\"No solution found\")\n"
      ]
    }
  ]
}